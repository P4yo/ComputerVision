{
 "cells": [
  {
   "cell_type": "markdown",
   "metadata": {
    "deletable": true,
    "editable": true
   },
   "source": [
    "# Quiz 2 - Image Processing\n",
    "\n",
    "**Brian**\n",
    "\n",
    "**Eugenio Pacceli**\n",
    "\n",
    "**Renato Oliveira**\n",
    "\n",
    "First task consisted of creating three masks with shapes (3x3), (5x5) and (7x7) based on Butterworth filter.\n",
    "\n",
    "It was also required to use filter orders n of {1,4} and cut-off frequencies D0 = {10,1}\n",
    "\n",
    "Image size should be width=640 x height=480"
   ]
  },
  {
   "cell_type": "markdown",
   "metadata": {
    "deletable": true,
    "editable": true
   },
   "source": [
    "Following the Butterworth formula, below we defined a function to calculate the distance D(u,v) from center of image with dimensions (w,h)"
   ]
  },
  {
   "cell_type": "code",
   "execution_count": 9,
   "metadata": {
    "collapsed": true,
    "deletable": true,
    "editable": true
   },
   "outputs": [],
   "source": [
    "%matplotlib inline\n",
    "import numpy as np\n",
    "import cv2\n",
    "import matplotlib.pyplot as plt\n",
    "\n",
    "#image is height: 480, width: 640\n",
    "\n",
    "#M:u:x:col:width\n",
    "#N:v:y:row:height\n"
   ]
  },
  {
   "cell_type": "code",
   "execution_count": 2,
   "metadata": {
    "collapsed": true,
    "deletable": true,
    "editable": true
   },
   "outputs": [],
   "source": [
    "#Calculate (u,v) distance from center of image\n",
    "def getDValue(u,v,w,h):\n",
    "    return np.sqrt((u - (w/2.0))**2 + (v - (h/2.0))**2)"
   ]
  },
  {
   "cell_type": "markdown",
   "metadata": {
    "deletable": true,
    "editable": true
   },
   "source": [
    "Afterwards, we created a function calculate each of the elements of matrix H, the Butterworth filter."
   ]
  },
  {
   "cell_type": "code",
   "execution_count": 3,
   "metadata": {
    "collapsed": true,
    "deletable": true,
    "editable": true
   },
   "outputs": [],
   "source": [
    "#Calculate element of Butterworth filter in matrix H given (u,v) pair,\n",
    "#cut-off frequency d0, order term n, width w and height h\n",
    "def getHValue(u,v,d0,n,w,h):\n",
    "    denom = 1.0 + ((getDValue(u,v,w,h)/d0)**(2*n))\n",
    "    return 1.0/denom"
   ]
  },
  {
   "cell_type": "markdown",
   "metadata": {
    "deletable": true,
    "editable": true
   },
   "source": [
    "Below we have a function to create matrix H that define a Butterworth filter for an image of (w,h) dimensions\n",
    "\n",
    "Each element cell, has 2 values, one for the real part and the other for the imaginary part.\n",
    "\n",
    "This follows the openCV standard for this kind of data structure"
   ]
  },
  {
   "cell_type": "code",
   "execution_count": 4,
   "metadata": {
    "collapsed": true,
    "deletable": true,
    "editable": true
   },
   "outputs": [],
   "source": [
    "#Create a Butterworth filter as matrix H given image dimensions (w,h), cutoff frequency d0, order n, width w and\n",
    "#height h. Calculate matrix H following openCV's standards, that is, with shape (h,w,2).\n",
    "#Each cell has 2 float values, the real part and the imaginary part\n",
    "def makeMatrixHCV2(w,h,d0,n):\n",
    "\n",
    "    matH = np.ones((h,w,2),dtype=np.float32)\n",
    "\n",
    "    for i in range(h):\n",
    "        for j in range(w):\n",
    "            matH[i,j] = getHValue(i,j,d0,n,w,h)\n",
    "\n",
    "    return matH\n"
   ]
  },
  {
   "cell_type": "markdown",
   "metadata": {
    "deletable": true,
    "editable": true
   },
   "source": [
    "As of matrix C, each of its rows has m\\*n elements corresponding to the exponential term in the Fourier transform. Each line correspond to a (u,v) pair of the H_hat vector that has N² elements and iterates though "
   ]
  },
  {
   "cell_type": "code",
   "execution_count": 5,
   "metadata": {
    "collapsed": true,
    "deletable": true,
    "editable": true
   },
   "outputs": [],
   "source": [
    "\n",
    "#Calculate a row for the matrix C\n",
    "#Matrix C has format N^2 x n^2.\n",
    "#For example, if we want a kernel ^H with shape 3x3 to aproximate the Butterworth filter H with shape (N=480, M=640) we will have matrix C with shape (N^2,n^2)\n",
    "#So, every line of matrix C has n^2 elements for each (u,v) pair of matrix ^H\n",
    "def getCRow(M,N,m,n,u,v):\n",
    "    return [np.exp(-2j*np.pi*(((x*u)/M) + ((y*v)/N))) for x in xrange(m) for y in xrange(n)]\n"
   ]
  },
  {
   "cell_type": "markdown",
   "metadata": {
    "deletable": true,
    "editable": true
   },
   "source": [
    "The following function calculate each of (u,v) lines of the matrix C"
   ]
  },
  {
   "cell_type": "code",
   "execution_count": 6,
   "metadata": {
    "collapsed": true,
    "deletable": true,
    "editable": true
   },
   "outputs": [],
   "source": [
    "#Build matrix C by calculating its lines for each (u,v) pair\n",
    "def makeMatrixC(M,N,m,n):\n",
    "    matC = list()\n",
    "    for u in xrange(N):\n",
    "        for v in xrange(N):\n",
    "            matC.append(getCRow(M,N,m,n,u,v))\n",
    "    return np.array(matC,dtype=np.complex)"
   ]
  },
  {
   "cell_type": "markdown",
   "metadata": {
    "deletable": true,
    "editable": true
   },
   "source": [
    "Then, the function below apply the Butterworth filter to an image of dimensions (480,640) and create a matrix H of this filter with the same dimensions"
   ]
  },
  {
   "cell_type": "code",
   "execution_count": 12,
   "metadata": {
    "collapsed": true,
    "deletable": true,
    "editable": true
   },
   "outputs": [],
   "source": [
    "#Apply Butterworth filter on an image with dimensions (h=480, w=640)\n",
    "#Follows openCV's standard in that every matrix element is double valued with an real part and a imaginary part\n",
    "def calcCV2():\n",
    "    img = cv2.imread(\"Lenna.png\",0)\n",
    "    img_dft = cv2.dft(np.float32(img), flags=cv2.DFT_COMPLEX_OUTPUT)\n",
    "    img_shift = np.fft.fftshift(img_dft)\n",
    "    matH = makeMatrixHCV2(640,480,10,1) #d0={1,10}, n={1,4}\n",
    "\n",
    "    img_shift_m = img_shift * matH\n",
    "\n",
    "    img_ishift = np.fft.ifftshift(img_shift_m)\n",
    "    img_back = cv2.idft(img_ishift)\n",
    "    img_back = cv2.magnitude(img_back[:,:,0],img_back[:,:,1])\n",
    "\n",
    "    plt.imshow(img_back,cmap=\"gray\")\n",
    "    plt.show()\n",
    "    #return matH"
   ]
  }
 ],
 "metadata": {
  "kernelspec": {
   "display_name": "Python 2",
   "language": "python",
   "name": "python2"
  },
  "language_info": {
   "codemirror_mode": {
    "name": "ipython",
    "version": 2
   },
   "file_extension": ".py",
   "mimetype": "text/x-python",
   "name": "python",
   "nbconvert_exporter": "python",
   "pygments_lexer": "ipython2",
   "version": "2.7.12"
  }
 },
 "nbformat": 4,
 "nbformat_minor": 2
}
