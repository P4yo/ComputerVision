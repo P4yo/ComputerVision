{
 "cells": [
  {
   "cell_type": "code",
   "execution_count": 2,
   "metadata": {
    "collapsed": false
   },
   "outputs": [
    {
     "name": "stdout",
     "output_type": "stream",
     "text": [
      "86.7956641526\n"
     ]
    }
   ],
   "source": [
    "import os\n",
    "import cv2\n",
    "import numpy as np\n",
    "\n",
    "imagesList = list() # all images read from input folder (50)\n",
    "INPUT_PATH = \"./images/\" # input folder\n",
    "OUTPUT_PATH = \"./results/\" # output folder\n",
    "\n",
    "# a function to display an image to screen and save it to a file\n",
    "def showImageAndSaveToFile(img,output):\n",
    "    cv2.namedWindow('image', cv2.WINDOW_NORMAL)\n",
    "    cv2.imshow('image', img)\n",
    "    cv2.waitKey(0) and cv2.destroyAllWindows()\n",
    "    cv2.imwrite(output, img)\n",
    "\n",
    "for fileName in os.listdir(INPUT_PATH): # read all images in input folder\n",
    "    imagesList.append(cv2.imread(INPUT_PATH + fileName, cv2.IMREAD_GRAYSCALE))\n",
    "\n",
    "xSize, ySize = imagesList[0].shape # get their shape\n",
    "\n",
    "imgSum = np.zeros((xSize, ySize), dtype=np.uint16) # temporary matrix to store the sum of various uint8 matrixes (the images)\n",
    "imgAvg = np.zeros((xSize, ySize), dtype=np.uint8) # matrix of the average of all the images read\n",
    "\n",
    "for img in imagesList:\n",
    "    imgSum = np.add(imgSum, img)\n",
    "\n",
    "imgSum = np.divide(imgSum,len(imagesList)) # get average\n",
    "\n",
    "imgAvg = imgSum.astype(np.uint8) # convert to uint8, expected by OpenCv\n",
    "            \n",
    "showImageAndSaveToFile(imgAvg, OUTPUT_PATH + \"imgAvg.jpeg\") # show the average image\n",
    "\n",
    "imgBuff = np.zeros((xSize, ySize), dtype=np.float64) # temporary matrix to receive the computation of average noise image\n",
    "imgNes = np.zeros((xSize, ySize), dtype=np.uint8) # matrix to output the computation done in the temporary matrix\n",
    "\n",
    "for img in imagesList: #computing average noise\n",
    "    imgBuff = np.add(imgBuff,np.subtract(imgAvg, img)**2)\n",
    "\n",
    "imgBuff = np.square(np.divide(imgBuff, len(imagesList)))\n",
    "\n",
    "imgNes = imgBuff.astype(np.uint8) # convert to uint8, expected by OpenCv\n",
    "            \n",
    "showImageAndSaveToFile(imgNes, OUTPUT_PATH + \"imgNoiseAvg.jpeg\")  # show the average noise image\n",
    "\n",
    "avgNoise = (np.sum(imgNes))/(xSize*ySize) # average noise escalar\n",
    "print(avgNoise)"
   ]
  }
 ],
 "metadata": {
  "kernelspec": {
   "display_name": "Python 3",
   "language": "python",
   "name": "python3"
  },
  "language_info": {
   "codemirror_mode": {
    "name": "ipython",
    "version": 3
   },
   "file_extension": ".py",
   "mimetype": "text/x-python",
   "name": "python",
   "nbconvert_exporter": "python",
   "pygments_lexer": "ipython3",
   "version": "3.6.0"
  }
 },
 "nbformat": 4,
 "nbformat_minor": 2
}
