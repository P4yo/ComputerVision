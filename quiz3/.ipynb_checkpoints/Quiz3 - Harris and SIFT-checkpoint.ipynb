{
 "cells": [
  {
   "cell_type": "markdown",
   "metadata": {
    "deletable": true,
    "editable": true
   },
   "source": [
    "# Quiz 3a - Implementation of the Harris Corner Detection\n",
    "\n",
    "**Eugenio Pacceli**\n",
    "\n",
    "**Renato Oliveira**\n",
    "\n",
    "**Brayan Acevedo**\n",
    "\n"
   ]
  },
  {
   "cell_type": "code",
   "execution_count": 1,
   "metadata": {
    "collapsed": false,
    "deletable": true,
    "editable": true
   },
   "outputs": [
    {
     "data": {
      "text/plain": [
       "{'divide': 'warn', 'invalid': 'warn', 'over': 'warn', 'under': 'ignore'}"
      ]
     },
     "execution_count": 1,
     "metadata": {},
     "output_type": "execute_result"
    }
   ],
   "source": [
    "%matplotlib inline\n",
    "import numpy as np\n",
    "import cv2\n",
    "import matplotlib.pyplot as plt\n",
    "import os\n",
    "import glob\n",
    "import random as rnd\n",
    "from scipy.ndimage import filters\n",
    "from PIL import Image\n",
    "from numpy import *\n",
    "from pylab import *\n",
    "from pandas import *\n",
    "\n",
    "np.seterr(divide='ignore', invalid='ignore')"
   ]
  },
  {
   "cell_type": "markdown",
   "metadata": {},
   "source": [
    "First off, Harris detector computes a squared matrix M comprised basically of derivatives of image pixels on both x and y axis.\n",
    "\n",
    "Then it calculates the corner responde number by subtracting the k\\*trace(M) from the determinant of M\n"
   ]
  },
  {
   "cell_type": "code",
   "execution_count": 2,
   "metadata": {
    "collapsed": true
   },
   "outputs": [],
   "source": [
    "#Compute the Algorithm Harris corner detecion for implementation in grayscale image\n",
    "def compute_harris_points(img, sigma=3):\n",
    "    #compute derivates in the image \n",
    "    imx = np.zeros(img.size)\n",
    "    imy = np.zeros(img.size)\n",
    "    \n",
    "    imx = filters.gaussian_filter(img, (sigma,sigma), (0,1))\n",
    "    imy = filters.gaussian_filter(img, (sigma,sigma), (1,0))\n",
    "    \n",
    "    # compute the products of derivatives at every pixel\n",
    "    Sxx = filters.gaussian_filter(imx*imx,sigma)\n",
    "    Sxy = filters.gaussian_filter(imx*imy,sigma)\n",
    "    Syy = filters.gaussian_filter(imy*imy,sigma)\n",
    "    \n",
    "    # determinant and trace\n",
    "    Mdet = Sxx*Syy - Sxy**2\n",
    "    Mtr = Sxx + Syy\n",
    "    harris = np.divide(Mdet, Mtr)\n",
    "    harris[np.isposinf(harris)] = 0\n",
    "    harris[np.isnan(harris)] = 0\n",
    "    return harris"
   ]
  },
  {
   "cell_type": "markdown",
   "metadata": {},
   "source": [
    "Afterwards, Harris detector proceeds with non-maximal suppression assuming a certain threshold (0.1 in this case)"
   ]
  },
  {
   "cell_type": "code",
   "execution_count": 3,
   "metadata": {
    "collapsed": false,
    "deletable": true,
    "editable": true
   },
   "outputs": [],
   "source": [
    "def doHarrisNonMaxSupression(harrisim,min_dist=10,threshold=0.1):\n",
    "    #Return corners from a Harris response image\n",
    "    #min_dist is the minimum number of pixels separating\n",
    "    #corners and image boundary. \n",
    "    global t \n",
    "    global dist\n",
    "    dist=min_dist\n",
    "    t=threshold\n",
    "    #print(t)\n",
    "    # find top corner candidates above a threshold\n",
    "    corner_threshold = harrisim.max() * threshold\n",
    "    harrisim_t = (harrisim > corner_threshold) * 1\n",
    "    # get coordinates of candidates\n",
    "    coords = array(harrisim_t.nonzero()).T\n",
    "    # ...and their values\n",
    "    candidate_values = [harrisim[c[0],c[1]] for c in coords]\n",
    "    # sort candidates\n",
    "    index = argsort(candidate_values)\n",
    "    # store allowed point locations in array\n",
    "    allowed_locations = zeros(harrisim.shape)\n",
    "    allowed_locations[min_dist:-min_dist,min_dist:-min_dist] = 1\n",
    "    # select the best points taking min_distance into account\n",
    "    filtered_coords = []\n",
    "    for i in index:\n",
    "        if allowed_locations[coords[i,0],coords[i,1]] == 1:\n",
    "            filtered_coords.append(coords[i])\n",
    "            allowed_locations[(coords[i,0]-min_dist):(coords[i,0]+min_dist),\n",
    "            (coords[i,1]-min_dist):(coords[i,1]+min_dist)] = 0\n",
    "    return filtered_coords\n",
    "\n",
    "def plot_harris_points(image,filtered_coords):\n",
    "    #\"\"\" Plots corners found in image. \"\"\"\n",
    "    plt.figure(figsize=(20,12))\n",
    "    gray()\n",
    "    plt.imshow(image)\n",
    "    plt.title('Harris corner detection, dist=%s and threshold=%s'%(dist,t))\n",
    "    plt.plot([p[1] for p in filtered_coords],[p[0] for p in filtered_coords],'*',color = 'r')\n",
    "    plt.axis('off')\n",
    "    plt.show()"
   ]
  },
  {
   "cell_type": "markdown",
   "metadata": {},
   "source": [
    "Compute Harris for ten levels of threshold\n",
    "\n",
    "Keypoints are shown as red stars"
   ]
  },
  {
   "cell_type": "code",
   "execution_count": null,
   "metadata": {
    "collapsed": false,
    "scrolled": false
   },
   "outputs": [],
   "source": [
    "im = Image.open('boat_images/img1.pgm')\n",
    "plt.figure(figsize=(20,12))\n",
    "gray()\n",
    "plt.imshow(im, cmap = 'gray')\n",
    "\n",
    "harrisim = compute_harris_points(im)\n",
    "\n",
    "\n",
    "for i in range(1, 11,1):\n",
    "        xx=i* 0.01\n",
    "        j=10\n",
    "        filtered_coords = doHarrisNonMaxSupression(harrisim,j,xx)\n",
    "        plot_harris_points(im, filtered_coords)"
   ]
  },
  {
   "cell_type": "markdown",
   "metadata": {
    "deletable": true,
    "editable": true
   },
   "source": [
    "# Quiz 3b - Implementation of the SIFT Feature Detector\n",
    "\n",
    "\n"
   ]
  },
  {
   "cell_type": "code",
   "execution_count": 5,
   "metadata": {
    "collapsed": true
   },
   "outputs": [],
   "source": [
    "def getGaussianKernel(sigma, kernelHeight=51, kernelWidth=51):\n",
    "    assert(kernelHeight % 2 == 1 and kernelWidth % 2 == 1)\n",
    "\n",
    "    yOffset = (kernelHeight - 1) / 2\n",
    "    xOffset = (kernelWidth - 1) / 2\n",
    "\n",
    "    kernel = np.ndarray((kernelHeight, kernelWidth), np.float64)\n",
    "\n",
    "    for y in range(-yOffset, yOffset+1, 1):\n",
    "        for x in range(-xOffset, xOffset+1, 1):\n",
    "            kernel[y+yOffset][x+xOffset] = (1. / (2.*np.pi*sigma**2)) * np.exp(-(x**2 + y**2) / (2 * sigma**2))\n",
    "    kernel /= kernel.sum()\n",
    "    return kernel\n",
    "\n",
    "\n",
    "def calcGaussianPyramid(org_img):\n",
    "    img = org_img.copy()\n",
    "    bluredImg = img.copy()\n",
    "\n",
    "    sigma = 1.6\n",
    "\n",
    "    octaveCount = 7\n",
    "    sigmaCount = 4\n",
    "\n",
    "    gp = np.ndarray(shape=(octaveCount,), dtype=np.ndarray)\n",
    "\n",
    "    for o in range(0, octaveCount):\n",
    "        gp[o] = np.ndarray(shape=(sigmaCount+1, img.shape[0], img.shape[1]), dtype=np.float64)\n",
    "        gp[o][0] = bluredImg.copy()\n",
    "        for s in range(1, sigmaCount + 1):\n",
    "            #k = 2**(float(s)/float(sigmaCount))\n",
    "            k = np.sqrt(2.0)**s\n",
    "            kernel = getGaussianKernel(k*sigma)\n",
    "            bluredImg = cv2.filter2D(img, -1, kernel)\n",
    "            gp[o][s] = bluredImg.copy()\n",
    "\n",
    "        if (o < octaveCount-1):\n",
    "            img = downscale(img)\n",
    "            bluredImg = downscale(bluredImg)\n",
    "\n",
    "    return gp\n",
    "\n",
    "def calcDifference(img0, img1, threshold = 0):\n",
    "    assert(img0.shape == img1.shape)\n",
    "\n",
    "    diffImg = np.ndarray(img0.shape, np.float64)\n",
    "\n",
    "    for y in range(diffImg.shape[0]):\n",
    "        for x in range(diffImg.shape[1]):\n",
    "            difference = abs(img1[y][x] - img0[y][x])\n",
    "            if difference > threshold:\n",
    "                diffImg[y][x] = difference\n",
    "            else:\n",
    "                diffImg[y][x] = 0\n",
    "\n",
    "    return diffImg\n",
    "\n",
    "\n",
    "def calcDoG(gp):\n",
    " \n",
    "    DoG = np.ndarray(shape=gp.shape, dtype=np.ndarray)\n",
    "\n",
    "    for o in range(DoG.shape[0]):\n",
    "        DoG[o] = np.ndarray(shape=(gp[o].shape[0]-1, gp[o].shape[1], gp[o].shape[2]), dtype=np.float64)\n",
    "        for s in range(DoG[o].shape[0]):\n",
    "            DoG[o][s] = calcDifference(gp[o][s], gp[o][s+1])\n",
    "\n",
    "    return DoG\n",
    "\n",
    "def getNeighbourhood(octave, s, y, x, radius=1):\n",
    "    neighbourhood = octave[s-radius:s+radius+1, y-radius:y+radius+1, x-radius:x+radius+1]\n",
    "    return neighbourhood\n",
    "\n",
    "def calcExtrema(DoG, threshold=0.3, radius=1):\n",
    "    keypoints = np.ndarray(shape=DoG.shape, dtype=np.ndarray)\n",
    "\n",
    "    sigma = 1.6\n",
    "    sigmaCount = DoG[0].shape[0]\n",
    "\n",
    "    for o in range(DoG.shape[0]):\n",
    "        keypoints[o] = np.ndarray(shape=(DoG[o].shape[0]-(2*radius),), dtype=list)\n",
    "        for s in range(radius, DoG[o].shape[0]-radius):\n",
    "            keypoints[o][s-radius] = []\n",
    "            k = 2**(float(s)/float(sigmaCount))\n",
    "            for y in range(radius, DoG[o].shape[1]-radius):\n",
    "                for x in range(radius, DoG[o].shape[2]-radius):\n",
    "                    value = DoG[o][s, y, x]\n",
    "                    neighbourhood = getNeighbourhood(DoG[o], s, y, x, radius=radius).flatten()\n",
    "                    neighbourhood.sort()\n",
    "                    min2 = neighbourhood[1]\n",
    "                    max2 = neighbourhood[-2]\n",
    "                    if value < min2 or (value > threshold and value > max2):\n",
    "                        scale = 2**o\n",
    "                        keypoints[o][s-radius].append((scale * y + scale/2, scale * x + scale/2, scale * k*sigma))\n",
    "\n",
    "    return keypoints\n",
    "\n",
    "def normalize(img):\n",
    "    normImg = np.ndarray(shape=img.shape, dtype=np.float64)\n",
    "\n",
    "    max_val = img.max()\n",
    "    if max > 0:\n",
    "        normImg = img/float(max_val)\n",
    "        normImg *= 255.\n",
    "    else:\n",
    "        return img.copy()\n",
    "\n",
    "    return normImg.astype(np.uint8)\n",
    "\n",
    "def scale(img, factor=2):\n",
    "    assert(len(img.shape) == 2)\n",
    "    rows, cols = img.shape\n",
    "    scaledImg = np.ndarray((rows*factor, cols*factor), np.float64)\n",
    "\n",
    "    for y in range(0, scaledImg.shape[0]):\n",
    "        for x in range(0, scaledImg.shape[1]):\n",
    "            scaledImg[y][x] = img[y/factor][x/factor]\n",
    "\n",
    "    return scaledImg\n",
    "\n",
    "def downscale(img):\n",
    "    assert(len(img.shape) == 2)\n",
    "    rows, cols = img.shape\n",
    "    scaledImg = np.ndarray((rows/2, cols/2), np.float64)\n",
    "\n",
    "    for y in range(0, scaledImg.shape[0]):\n",
    "        for x in range(0, scaledImg.shape[1]):\n",
    "            scaledImg[y][x] = img[2*y][2*x]\n",
    "\n",
    "    return scaledImg\n",
    "\n",
    "\n",
    "def drawKeypoints(img, kp):\n",
    "    if (len(img.shape) < 3 or img.shape[2] == 1):\n",
    "        kpImg = cv2.cvtColor(img, cv2.COLOR_GRAY2BGR)\n",
    "    else:\n",
    "        kpImg = img.copy()\n",
    "    for y, x, scale in kp:\n",
    "        r = rnd.randrange(0,255)\n",
    "        g = rnd.randrange(0,255)\n",
    "        b = rnd.randrange(0,255)\n",
    "        cv2.circle(kpImg, (int(x), int(y)), int(scale), (r, g, b))\n",
    "    \n",
    "    return kpImg\n",
    "\n",
    "def plotImage(title,image):\n",
    "    plt.figure(figsize=(20,12))\n",
    "    gray()\n",
    "    plt.imshow(image)\n",
    "    plt.title(title)\n",
    "    plt.axis('off')\n",
    "    plt.show()"
   ]
  },
  {
   "cell_type": "markdown",
   "metadata": {},
   "source": [
    "Execute custom SIFT for every given image in the current path then show keypoints as circles in the correspoding images.\n",
    "\n",
    "SIFT algorithm begins detecting points that are invariant to scale changes. This is achieved by building a scale-space function named L(x,y,sigma) that consists of a convolution of a gaussian function and the image for every pixel. Following Lowe's paper (LOWE,2004) _to efficiently detect keypoint locations in space scale we have proposed using a space scale extrema in the difference of Gaussian function convolved with the image_.\n",
    "\n",
    "In this implementation, the functions ```calcGaussianPyramid``` and ```getGaussianKernel``` compute the octaves and build a scape space for the image.\n",
    "\n",
    "Afterwards, the difference of two consecutive guassian spaces separated by a constant factor k is carried out. This is implemented in the function ```calcDoG```\n",
    "\n",
    "Now, a local extrema detection step is executed. As Lowe stated _each sample point is compared to each of its neighbors in the current image and nine of neighbors in the scale above and below_.\n",
    "\n",
    "Only the largest or the smallest of the points is selected as a candidate keypoint extrema.\n",
    "\n",
    "To improve matching and stability _a detailed fit to nearby data for location, scale and ratio of principal curvatures_ is performed. The function ```calcExtrema``` executes this step. This eliminates points with low contrast or that poorly localized along an edge.\n",
    "\n",
    "And finally, the selected keypoints are drawn on the image."
   ]
  },
  {
   "cell_type": "code",
   "execution_count": null,
   "metadata": {
    "collapsed": false
   },
   "outputs": [],
   "source": [
    "images = glob.glob('boat_images/img_*.png')\n",
    "print('Images Loaded!')    \n",
    "for filename in images:\n",
    "    img = cv2.imread(filename, 0)\n",
    "    gp = calcGaussianPyramid(img)\n",
    "    DoG = calcDoG(gp)\n",
    "\n",
    "    radius = 1\n",
    "    keypoints = calcExtrema(DoG, radius=radius)\n",
    "    kpImg = img.copy()\n",
    "    for o in range(keypoints.shape[0]):\n",
    "        for s in range(radius, DoG[o].shape[0]-radius):\n",
    "            kp = keypoints[o][s-radius]\n",
    "            kpImg = drawKeypoints(kpImg, kp)\n",
    "\n",
    "    plotImage(\"Custom SIFT \"+ filename, kpImg)    \n",
    "    \n",
    "\n",
    "\n",
    "        "
   ]
  },
  {
   "cell_type": "markdown",
   "metadata": {},
   "source": [
    "## SIFT Feature Detector - Opencv Implementation"
   ]
  },
  {
   "cell_type": "code",
   "execution_count": null,
   "metadata": {
    "collapsed": false
   },
   "outputs": [],
   "source": [
    "#img = (Image.open('boat_images/img1.pgm').convert('L'))\n",
    "#img.save('boat_images/img_1.png')\n",
    "#img = (Image.open('boat_images/img2.pgm').convert('L'))\n",
    "#img.save('boat_images/img_2.png')\n",
    "#img = (Image.open('boat_images/img3.pgm').convert('L'))\n",
    "#img.save('boat_images/img_3.png')\n",
    "#img = (Image.open('boat_images/img4.pgm').convert('L'))\n",
    "#img.save('boat_images/img_4.png')\n",
    "#img = (Image.open('boat_images/img5.pgm').convert('L'))\n",
    "#img.save('boat_images/img_5.png')\n",
    "#img = (Image.open('boat_images/img6.pgm').convert('L'))\n",
    "#img.save('boat_images/img_6.png')\n",
    "\n",
    "images = glob.glob('boat_images//img*.pgm')\n",
    "for filename in images:\n",
    "    img = cv2.imread(filename, 0)\n",
    "    sift = cv2.SIFT()\n",
    "    kp, desc = sift.detectAndCompute(img, None)\n",
    "    imgfinal=cv2.drawKeypoints(img,kp,flags=cv2.DRAW_MATCHES_FLAGS_DRAW_RICH_KEYPOINTS)\n",
    "    plotImage(\"SIFT Opencv  \"+filename, imgfinal)   \n",
    "\n"
   ]
  },
  {
   "cell_type": "code",
   "execution_count": null,
   "metadata": {
    "collapsed": false
   },
   "outputs": [],
   "source": [
    "## matching\n",
    "sift = cv2.SIFT()\n",
    "imgA = cv2.imread('boat_images//img1.pgm', 0)\n",
    "imgB = cv2.imread('boat_images//img2.pgm', 0)\n",
    "kpA, desA = sift.detectAndCompute(imgA,None)\n",
    "kpB, desB = sift.detectAndCompute(imgB,None)\n",
    "bf = cv2.BFMatcher()\n",
    "matches = bf.knnMatch(desA,desB, k=2)\n",
    "#img3 = cv2.drawMatchesKnn(imgA,kpA,imgB,kpB,good,flags=2)\n",
    "#plt.imshow(img3)\n",
    "#plt.show()\n",
    "\n",
    "\n"
   ]
  }
 ],
 "metadata": {
  "kernelspec": {
   "display_name": "Python 2",
   "language": "python",
   "name": "python2"
  },
  "language_info": {
   "codemirror_mode": {
    "name": "ipython",
    "version": 2
   },
   "file_extension": ".py",
   "mimetype": "text/x-python",
   "name": "python",
   "nbconvert_exporter": "python",
   "pygments_lexer": "ipython2",
   "version": "2.7.13"
  }
 },
 "nbformat": 4,
 "nbformat_minor": 2
}
